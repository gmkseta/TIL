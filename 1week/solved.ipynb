{
 "cells": [
  {
   "cell_type": "code",
   "execution_count": 1,
   "metadata": {},
   "outputs": [],
   "source": [
    "def solution(n):\n",
    "    answer = 0\n",
    "    for i in range(2, n):\n",
    "        if n % i == 1:\n",
    "            answer = i\n",
    "            break\n",
    "    return answer\n",
    "\n"
   ]
  },
  {
   "cell_type": "code",
   "execution_count": 3,
   "metadata": {},
   "outputs": [],
   "source": [
    "def solution(sizes):\n",
    "    longest, shortest = 0, 0\n",
    "    for (x, y) in sizes:\n",
    "        if x > y:\n",
    "            longer, shorter = x, y\n",
    "        else:\n",
    "            longer, shorter = y, x\n",
    "        if longer > longest:\n",
    "            longest = longer\n",
    "        if shorter > shortest:\n",
    "            shortest = shorter\n",
    "\n",
    "    return longest*shortest\n"
   ]
  },
  {
   "cell_type": "code",
   "execution_count": 4,
   "metadata": {},
   "outputs": [],
   "source": [
    "def solution(numbers):\n",
    "    return 45-sum(numbers)\n"
   ]
  },
  {
   "cell_type": "code",
   "execution_count": 1,
   "metadata": {},
   "outputs": [],
   "source": [
    "def solution(s):\n",
    "    answer = 0\n",
    "    result = []\n",
    "    i = 0\n",
    "    # [to digit chr, length ]\n",
    "    wordInfo = {\n",
    "        'z': ['0', 4],\n",
    "        'o': ['1', 3],\n",
    "        'tw': ['2', 3],\n",
    "        't': ['3', 5],\n",
    "        'fo': ['4', 4],\n",
    "        'f': ['5', 4],\n",
    "        'si': ['6', 3],\n",
    "        's': ['7', 5],\n",
    "        'e': ['8', 5],\n",
    "        'n': ['9', 4],\n",
    "    }\n",
    "    while i < len(s):\n",
    "        if s[i].isdigit():\n",
    "            result.append(s[i])\n",
    "            i += 1\n",
    "        else:\n",
    "            for chars in wordInfo.keys():\n",
    "                if s[i] == chars[0]:\n",
    "                    if len(chars) == 2 and s[i+1] != chars[1]:\n",
    "                        continue\n",
    "                    digit_chr, length = wordInfo[chars]\n",
    "                    result.append(digit_chr)\n",
    "                    i += length\n",
    "                    break\n",
    "    return int(''.join(result))\n"
   ]
  },
  {
   "cell_type": "code",
   "execution_count": 2,
   "metadata": {},
   "outputs": [],
   "source": [
    "\n",
    "\n",
    "import re\n",
    "\n",
    "def solution(dartResult):\n",
    "    bonus = {'S': 1, 'D': 2, 'T': 3}\n",
    "    option = {'': 1, '*': 2, '#': -1}\n",
    "    p = re.compile('(\\d+)([SDT])([*#]?)')\n",
    "    dart = p.findall(dartResult)\n",
    "    for i in range(len(dart)):\n",
    "        if dart[i][2] == '*' and i > 0:\n",
    "            dart[i-1] *= 2\n",
    "        dart[i] = int(dart[i][0]) ** bonus[dart[i][1]] * option[dart[i][2]]\n",
    "\n",
    "    answer = sum(dart)\n",
    "    return answer\n",
    "\n",
    "#---\n",
    "\n",
    "\n",
    "def solution(dartResult):\n",
    "    result = []\n",
    "    score = 0\n",
    "    bonus = False\n",
    "    bonusDict = {'S': 1, 'D': 2, 'T': 3}\n",
    "    option = False\n",
    "\n",
    "    def append_score():\n",
    "        nonlocal result, score, bonus, option\n",
    "        calc_score = score**(bonusDict[bonus])\n",
    "        if option:\n",
    "            if option == '*':\n",
    "                multi = 2\n",
    "                before_score = result.pop() if len(result) else False\n",
    "                if before_score:\n",
    "                    result.append(before_score*multi)\n",
    "            elif option == '#':\n",
    "                multi = -1\n",
    "\n",
    "            result.append(calc_score*multi)\n",
    "        else:\n",
    "            result.append(calc_score)\n",
    "        score, bonus, option = 0, False, False\n",
    "\n",
    "    for idx, char in enumerate(dartResult):\n",
    "        if (idx != 0 and char.isdigit() and bonus):\n",
    "            append_score()\n",
    "        if char.isdigit() and not bonus:\n",
    "            score = score*10 + int(char)\n",
    "        elif char.isdigit():\n",
    "            score = int(char)\n",
    "        elif char in ['S', 'D', 'T']:\n",
    "            bonus = char\n",
    "        elif char in ['*', '#']:\n",
    "            option = char\n",
    "        if idx == len(dartResult)-1:\n",
    "            append_score()\n",
    "\n",
    "    return sum(result)\n"
   ]
  },
  {
   "cell_type": "code",
   "execution_count": null,
   "metadata": {},
   "outputs": [],
   "source": []
  }
 ],
 "metadata": {
  "interpreter": {
   "hash": "2a9587aeb1463dbfc952ea50eb048fb01ba7304bf9535a5ed872b92b4738186c"
  },
  "kernelspec": {
   "display_name": "Python 3.9.4 64-bit ('zero': pyenv)",
   "language": "python",
   "name": "python3"
  },
  "language_info": {
   "codemirror_mode": {
    "name": "ipython",
    "version": 3
   },
   "file_extension": ".py",
   "mimetype": "text/x-python",
   "name": "python",
   "nbconvert_exporter": "python",
   "pygments_lexer": "ipython3",
   "version": "3.9.4"
  },
  "orig_nbformat": 4
 },
 "nbformat": 4,
 "nbformat_minor": 2
}
