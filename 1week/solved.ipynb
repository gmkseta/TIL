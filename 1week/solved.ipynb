{
 "cells": [
  {
   "cell_type": "code",
   "execution_count": 1,
   "metadata": {},
   "outputs": [],
   "source": [
    "def solution(n):\n",
    "    answer = 0\n",
    "    for i in range(2, n):\n",
    "        if n % i == 1:\n",
    "            answer = i\n",
    "            break\n",
    "    return answer\n",
    "\n"
   ]
  },
  {
   "cell_type": "code",
   "execution_count": 3,
   "metadata": {},
   "outputs": [],
   "source": [
    "def solution(sizes):\n",
    "    longest, shortest = 0, 0\n",
    "    for (x, y) in sizes:\n",
    "        if x > y:\n",
    "            longer, shorter = x, y\n",
    "        else:\n",
    "            longer, shorter = y, x\n",
    "        if longer > longest:\n",
    "            longest = longer\n",
    "        if shorter > shortest:\n",
    "            shortest = shorter\n",
    "\n",
    "    return longest*shortest\n"
   ]
  },
  {
   "cell_type": "code",
   "execution_count": 4,
   "metadata": {},
   "outputs": [],
   "source": [
    "def solution(numbers):\n",
    "    return 45-sum(numbers)\n"
   ]
  },
  {
   "cell_type": "code",
   "execution_count": null,
   "metadata": {},
   "outputs": [],
   "source": []
  }
 ],
 "metadata": {
  "interpreter": {
   "hash": "2a9587aeb1463dbfc952ea50eb048fb01ba7304bf9535a5ed872b92b4738186c"
  },
  "kernelspec": {
   "display_name": "Python 3.9.4 64-bit ('zero': pyenv)",
   "language": "python",
   "name": "python3"
  },
  "language_info": {
   "codemirror_mode": {
    "name": "ipython",
    "version": 3
   },
   "file_extension": ".py",
   "mimetype": "text/x-python",
   "name": "python",
   "nbconvert_exporter": "python",
   "pygments_lexer": "ipython3",
   "version": "3.9.4"
  },
  "orig_nbformat": 4
 },
 "nbformat": 4,
 "nbformat_minor": 2
}
